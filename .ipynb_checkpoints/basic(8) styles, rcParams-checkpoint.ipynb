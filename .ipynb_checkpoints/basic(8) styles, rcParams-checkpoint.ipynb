{
 "cells": [
  {
   "cell_type": "markdown",
   "id": "157aaf2d",
   "metadata": {},
   "source": [
    "# styles, rcParams"
   ]
  },
  {
   "cell_type": "code",
   "execution_count": 1,
   "id": "0e675ec1",
   "metadata": {},
   "outputs": [],
   "source": [
    "import matplotlib.pyplot as plt\n",
    "import numpy as np"
   ]
  },
  {
   "cell_type": "markdown",
   "id": "78d74b12",
   "metadata": {},
   "source": [
    "## 1) styles"
   ]
  },
  {
   "cell_type": "code",
   "execution_count": 3,
   "id": "a2ab01e9",
   "metadata": {},
   "outputs": [
    {
     "name": "stdout",
     "output_type": "stream",
     "text": [
      "Solarize_Light2\n",
      "_classic_test_patch\n",
      "_mpl-gallery\n",
      "_mpl-gallery-nogrid\n",
      "bmh\n",
      "classic\n",
      "dark_background\n",
      "fast\n",
      "fivethirtyeight\n",
      "ggplot\n",
      "grayscale\n",
      "seaborn-v0_8\n",
      "seaborn-v0_8-bright\n",
      "seaborn-v0_8-colorblind\n",
      "seaborn-v0_8-dark\n",
      "seaborn-v0_8-dark-palette\n",
      "seaborn-v0_8-darkgrid\n",
      "seaborn-v0_8-deep\n",
      "seaborn-v0_8-muted\n",
      "seaborn-v0_8-notebook\n",
      "seaborn-v0_8-paper\n",
      "seaborn-v0_8-pastel\n",
      "seaborn-v0_8-poster\n",
      "seaborn-v0_8-talk\n",
      "seaborn-v0_8-ticks\n",
      "seaborn-v0_8-white\n",
      "seaborn-v0_8-whitegrid\n",
      "tableau-colorblind10\n"
     ]
    }
   ],
   "source": [
    "for style in plt.style.available:\n",
    "    print(style)"
   ]
  },
  {
   "cell_type": "code",
   "execution_count": 5,
   "id": "08008676",
   "metadata": {},
   "outputs": [
    {
     "data": {
      "text/plain": [
       "<matplotlib.collections.PathCollection at 0x11bdd63b0>"
      ]
     },
     "execution_count": 5,
     "metadata": {},
     "output_type": "execute_result"
    },
    {
     "data": {
      "image/png": "[encoded data removed]",
      "text/plain": [
       "<Figure size 500x500 with 2 Axes>"
      ]
     },
     "metadata": {},
     "output_type": "display_data"
    }
   ],
   "source": [
    "# style 사용하기\n",
    "plt.style.use('seaborn-v0_8')\n",
    "\n",
    "fig, axes = plt.subplots(2, 1, figsize=(5, 5))\n",
    "\n",
    "axes[0].plot([1, 2, 3])\n",
    "axes[1].scatter(np.random.normal(0, 1, (10, )),\n",
    "               np.random.normal(0, 1, (10, )))"
   ]
  },
  {
   "cell_type": "markdown",
   "id": "b7c308e5",
   "metadata": {},
   "source": [
    "## 2) rcParams\n",
    "- 설정 가능한 값들을 사전에 정의해둘 수 있다.\n",
    "- 코드를 작성할 때 일일이 명시하지 않아도 되는 장점이 있다."
   ]
  },
  {
   "cell_type": "code",
   "execution_count": 7,
   "id": "83046c59",
   "metadata": {},
   "outputs": [],
   "source": [
    "# print(plt.rcParams)"
   ]
  },
  {
   "cell_type": "code",
   "execution_count": 10,
   "id": "a77fdc52",
   "metadata": {},
   "outputs": [],
   "source": [
    "# figure 객체를 생성할 때 figsize를 미리 정의해둔다.\n",
    "plt.rcParams['figure.figsize'] = (7, 7)"
   ]
  },
  {
   "cell_type": "code",
   "execution_count": null,
   "id": "6de294b1",
   "metadata": {},
   "outputs": [],
   "source": []
  }
 ],
 "metadata": {
  "kernelspec": {
   "display_name": "Python 3 (ipykernel)",
   "language": "python",
   "name": "python3"
  },
  "language_info": {
   "codemirror_mode": {
    "name": "ipython",
    "version": 3
   },
   "file_extension": ".py",
   "mimetype": "text/x-python",
   "name": "python",
   "nbconvert_exporter": "python",
   "pygments_lexer": "ipython3",
   "version": "3.10.9"
  }
 },
 "nbformat": 4,
 "nbformat_minor": 5
}
